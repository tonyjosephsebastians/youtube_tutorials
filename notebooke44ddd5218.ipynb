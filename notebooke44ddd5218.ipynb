{
  "metadata": {
    "kernelspec": {
      "language": "python",
      "display_name": "Python 3",
      "name": "python3"
    },
    "language_info": {
      "pygments_lexer": "ipython3",
      "nbconvert_exporter": "python",
      "version": "3.6.4",
      "file_extension": ".py",
      "codemirror_mode": {
        "name": "ipython",
        "version": 3
      },
      "name": "python",
      "mimetype": "text/x-python"
    },
    "kaggle": {
      "accelerator": "none",
      "dataSources": [
        {
          "sourceId": 87794,
          "sourceType": "datasetVersion",
          "datasetId": 48149
        }
      ],
      "dockerImageVersionId": 30203,
      "isInternetEnabled": false,
      "language": "python",
      "sourceType": "notebook",
      "isGpuEnabled": false
    },
    "colab": {
      "name": "notebooke44ddd5218",
      "provenance": [],
      "include_colab_link": true
    }
  },
  "nbformat_minor": 0,
  "nbformat": 4,
  "cells": [
    {
      "cell_type": "markdown",
      "metadata": {
        "id": "view-in-github",
        "colab_type": "text"
      },
      "source": [
        "<a href=\"https://colab.research.google.com/github/tonyjosephsebastians/youtube_tutorials/blob/main/notebooke44ddd5218.ipynb\" target=\"_parent\"><img src=\"https://colab.research.google.com/assets/colab-badge.svg\" alt=\"Open In Colab\"/></a>"
      ]
    },
    {
      "source": [
        "# IMPORTANT: RUN THIS CELL IN ORDER TO IMPORT YOUR KAGGLE DATA SOURCES,\n",
        "# THEN FEEL FREE TO DELETE THIS CELL.\n",
        "# NOTE: THIS NOTEBOOK ENVIRONMENT DIFFERS FROM KAGGLE'S PYTHON\n",
        "# ENVIRONMENT SO THERE MAY BE MISSING LIBRARIES USED BY YOUR\n",
        "# NOTEBOOK.\n",
        "import kagglehub\n",
        "robikscube_hourly_energy_consumption_path = kagglehub.dataset_download('robikscube/hourly-energy-consumption')\n",
        "\n",
        "print('Data source import complete.')\n"
      ],
      "metadata": {
        "id": "_miWEml-khqe"
      },
      "cell_type": "code",
      "outputs": [],
      "execution_count": null
    },
    {
      "cell_type": "markdown",
      "source": [
        "# PART 2!\n",
        "# Time Series Forecasting Youtube Tutorial\n",
        "## Using Machine Learning to Forecast Energy Consumption\n",
        "\n",
        "\n",
        "This notebook is accompanied by a Youtube tutorial.\n",
        "\n",
        "[WATCH THE FIRST VIDEO HERE](https://youtu.be/vV12dGe_Fho)\n",
        "\n",
        "[You can find it on my channel here!](https://www.youtube.com/channel/UCxladMszXan-jfgzyeIMyvw)\n",
        "\n",
        "![](https://res.cloudinary.com/monday-blogs/w_768,h_384,c_fit/fl_lossy,f_auto,q_auto/wp-blog/2021/05/sales-forecasting-software.jpg)"
      ],
      "metadata": {
        "_uuid": "8f2839f25d086af736a60e9eeb907d3b93b6e0e5",
        "_cell_guid": "b1076dfc-b9ad-4769-8c92-a6c4dae69d19",
        "id": "sz7_P8L5khqh"
      }
    },
    {
      "cell_type": "code",
      "source": [
        "import pandas as pd\n",
        "import numpy as np\n",
        "import matplotlib.pyplot as plt\n",
        "import seaborn as sns\n",
        "\n",
        "import xgboost as xgb\n",
        "from sklearn.metrics import mean_squared_error\n",
        "color_pal = sns.color_palette()\n",
        "plt.style.use('fivethirtyeight')"
      ],
      "metadata": {
        "execution": {
          "iopub.status.busy": "2022-08-01T20:06:56.054744Z",
          "iopub.execute_input": "2022-08-01T20:06:56.055251Z",
          "iopub.status.idle": "2022-08-01T20:06:57.191219Z",
          "shell.execute_reply.started": "2022-08-01T20:06:56.055152Z",
          "shell.execute_reply": "2022-08-01T20:06:57.190146Z"
        },
        "trusted": true,
        "id": "x74LJAwekhqj"
      },
      "outputs": [],
      "execution_count": null
    },
    {
      "cell_type": "code",
      "source": [
        "df = pd.read_csv('../input/hourly-energy-consumption/PJME_hourly.csv')\n",
        "df = df.set_index('Datetime')\n",
        "df.index = pd.to_datetime(df.index)"
      ],
      "metadata": {
        "execution": {
          "iopub.status.busy": "2022-08-01T20:47:55.649301Z",
          "iopub.execute_input": "2022-08-01T20:47:55.649925Z",
          "iopub.status.idle": "2022-08-01T20:47:55.896973Z",
          "shell.execute_reply.started": "2022-08-01T20:47:55.649882Z",
          "shell.execute_reply": "2022-08-01T20:47:55.895464Z"
        },
        "trusted": true,
        "id": "0hEOfnmGkhqj"
      },
      "outputs": [],
      "execution_count": null
    },
    {
      "cell_type": "code",
      "source": [
        "df.plot(style='.',\n",
        "        figsize=(15, 5),\n",
        "        color=color_pal[0],\n",
        "        title='PJME Energy Use in MW')\n",
        "plt.show()"
      ],
      "metadata": {
        "execution": {
          "iopub.status.busy": "2022-08-01T20:48:17.450398Z",
          "iopub.execute_input": "2022-08-01T20:48:17.450837Z",
          "iopub.status.idle": "2022-08-01T20:48:18.865452Z",
          "shell.execute_reply.started": "2022-08-01T20:48:17.450783Z",
          "shell.execute_reply": "2022-08-01T20:48:18.863921Z"
        },
        "trusted": true,
        "id": "GzyciKwUkhqk"
      },
      "outputs": [],
      "execution_count": null
    },
    {
      "cell_type": "markdown",
      "source": [
        "# 1. Outlier Analysis and removal"
      ],
      "metadata": {
        "id": "0uou4yWikhqk"
      }
    },
    {
      "cell_type": "code",
      "source": [
        "df['PJME_MW'].plot(kind='hist', bins=500)"
      ],
      "metadata": {
        "execution": {
          "iopub.status.busy": "2022-08-01T20:49:28.752291Z",
          "iopub.execute_input": "2022-08-01T20:49:28.752769Z",
          "iopub.status.idle": "2022-08-01T20:49:29.973994Z",
          "shell.execute_reply.started": "2022-08-01T20:49:28.752722Z",
          "shell.execute_reply": "2022-08-01T20:49:29.97217Z"
        },
        "trusted": true,
        "id": "YtsSPXEFkhqk"
      },
      "outputs": [],
      "execution_count": null
    },
    {
      "cell_type": "code",
      "source": [
        "df.query('PJME_MW < 19_000')['PJME_MW'] \\\n",
        "    .plot(style='.',\n",
        "          figsize=(15, 5),\n",
        "          color=color_pal[5],\n",
        "          title='Outliers')"
      ],
      "metadata": {
        "execution": {
          "iopub.status.busy": "2022-08-01T20:51:23.606577Z",
          "iopub.execute_input": "2022-08-01T20:51:23.607069Z",
          "iopub.status.idle": "2022-08-01T20:51:23.907928Z",
          "shell.execute_reply.started": "2022-08-01T20:51:23.607019Z",
          "shell.execute_reply": "2022-08-01T20:51:23.904933Z"
        },
        "trusted": true,
        "id": "lkN0FdHZkhql"
      },
      "outputs": [],
      "execution_count": null
    },
    {
      "cell_type": "code",
      "source": [
        "df = df.query('PJME_MW > 19_000').copy()"
      ],
      "metadata": {
        "execution": {
          "iopub.status.busy": "2022-08-01T20:51:53.483683Z",
          "iopub.execute_input": "2022-08-01T20:51:53.484248Z",
          "iopub.status.idle": "2022-08-01T20:51:53.501357Z",
          "shell.execute_reply.started": "2022-08-01T20:51:53.484204Z",
          "shell.execute_reply": "2022-08-01T20:51:53.499487Z"
        },
        "trusted": true,
        "id": "d3CLJQjikhql"
      },
      "outputs": [],
      "execution_count": null
    },
    {
      "cell_type": "markdown",
      "source": [
        "# Reviewing: Train / Test Split"
      ],
      "metadata": {
        "id": "LLHTwLGIkhql"
      }
    },
    {
      "cell_type": "code",
      "source": [
        "train = df.loc[df.index < '01-01-2015']\n",
        "test = df.loc[df.index >= '01-01-2015']\n",
        "\n",
        "fig, ax = plt.subplots(figsize=(15, 5))\n",
        "train.plot(ax=ax, label='Training Set', title='Data Train/Test Split')\n",
        "test.plot(ax=ax, label='Test Set')\n",
        "ax.axvline('01-01-2015', color='black', ls='--')\n",
        "ax.legend(['Training Set', 'Test Set'])\n",
        "plt.show()"
      ],
      "metadata": {
        "execution": {
          "iopub.status.busy": "2022-08-01T20:52:16.253432Z",
          "iopub.execute_input": "2022-08-01T20:52:16.253873Z",
          "iopub.status.idle": "2022-08-01T20:52:18.896346Z",
          "shell.execute_reply.started": "2022-08-01T20:52:16.253838Z",
          "shell.execute_reply": "2022-08-01T20:52:18.894844Z"
        },
        "trusted": true,
        "id": "LUFLtxLRkhqm"
      },
      "outputs": [],
      "execution_count": null
    },
    {
      "cell_type": "markdown",
      "source": [
        "# 1. Time Series Cross Validation"
      ],
      "metadata": {
        "id": "ufuclGJ_khqm"
      }
    },
    {
      "cell_type": "code",
      "source": [
        "from sklearn.model_selection import TimeSeriesSplit\n",
        "\n",
        "tss = TimeSeriesSplit(n_splits=5, test_size=24*365*1, gap=24)\n",
        "df = df.sort_index()"
      ],
      "metadata": {
        "execution": {
          "iopub.status.busy": "2022-08-01T20:56:47.764926Z",
          "iopub.execute_input": "2022-08-01T20:56:47.766371Z",
          "iopub.status.idle": "2022-08-01T20:56:47.772861Z",
          "shell.execute_reply.started": "2022-08-01T20:56:47.766324Z",
          "shell.execute_reply": "2022-08-01T20:56:47.771874Z"
        },
        "trusted": true,
        "id": "-TqeMxXEkhqm"
      },
      "outputs": [],
      "execution_count": null
    },
    {
      "cell_type": "code",
      "source": [
        "fig, axs = plt.subplots(5, 1, figsize=(15, 15), sharex=True)\n",
        "\n",
        "fold = 0\n",
        "for train_idx, val_idx in tss.split(df):\n",
        "    train = df.iloc[train_idx]\n",
        "    test = df.iloc[val_idx]\n",
        "    train['PJME_MW'].plot(ax=axs[fold],\n",
        "                          label='Training Set',\n",
        "                          title=f'Data Train/Test Split Fold {fold}')\n",
        "    test['PJME_MW'].plot(ax=axs[fold],\n",
        "                         label='Test Set')\n",
        "    axs[fold].axvline(test.index.min(), color='black', ls='--')\n",
        "    fold += 1\n",
        "plt.show()"
      ],
      "metadata": {
        "execution": {
          "iopub.status.busy": "2022-08-01T21:00:06.808535Z",
          "iopub.execute_input": "2022-08-01T21:00:06.809068Z",
          "iopub.status.idle": "2022-08-01T21:00:14.116474Z",
          "shell.execute_reply.started": "2022-08-01T21:00:06.809014Z",
          "shell.execute_reply": "2022-08-01T21:00:14.114965Z"
        },
        "trusted": true,
        "id": "Wq26yXGQkhqm"
      },
      "outputs": [],
      "execution_count": null
    },
    {
      "cell_type": "markdown",
      "source": [
        "# 2. Forecasting Horizon Explained\n",
        "**The forecast horizon is the length of time into the future for which forecasts are to be prepared. These generally vary from short-term forecasting horizons (less than three months) to long-term horizons (more than two years).**"
      ],
      "metadata": {
        "id": "92UXycLdkhqn"
      }
    },
    {
      "cell_type": "code",
      "source": [
        "def create_features(df):\n",
        "    \"\"\"\n",
        "    Create time series features based on time series index.\n",
        "    \"\"\"\n",
        "    df = df.copy()\n",
        "    df['hour'] = df.index.hour\n",
        "    df['dayofweek'] = df.index.dayofweek\n",
        "    df['quarter'] = df.index.quarter\n",
        "    df['month'] = df.index.month\n",
        "    df['year'] = df.index.year\n",
        "    df['dayofyear'] = df.index.dayofyear\n",
        "    df['dayofmonth'] = df.index.day\n",
        "    df['weekofyear'] = df.index.isocalendar().week\n",
        "    return df\n",
        "\n",
        "df = create_features(df)"
      ],
      "metadata": {
        "execution": {
          "iopub.status.busy": "2022-08-01T21:04:03.166197Z",
          "iopub.execute_input": "2022-08-01T21:04:03.166751Z",
          "iopub.status.idle": "2022-08-01T21:04:03.360967Z",
          "shell.execute_reply.started": "2022-08-01T21:04:03.166711Z",
          "shell.execute_reply": "2022-08-01T21:04:03.359392Z"
        },
        "trusted": true,
        "id": "XBDgIz7xkhqn"
      },
      "outputs": [],
      "execution_count": null
    },
    {
      "cell_type": "markdown",
      "source": [
        "# 3. Lag Features\n",
        "- What was the target (x) days in the past."
      ],
      "metadata": {
        "id": "sbgjLadskhqn"
      }
    },
    {
      "cell_type": "code",
      "source": [
        "def add_lags(df):\n",
        "    target_map = df['PJME_MW'].to_dict()\n",
        "    df['lag1'] = (df.index - pd.Timedelta('364 days')).map(target_map)\n",
        "    df['lag2'] = (df.index - pd.Timedelta('728 days')).map(target_map)\n",
        "    df['lag3'] = (df.index - pd.Timedelta('1092 days')).map(target_map)\n",
        "    return df"
      ],
      "metadata": {
        "execution": {
          "iopub.status.busy": "2022-08-01T21:08:07.781814Z",
          "iopub.execute_input": "2022-08-01T21:08:07.782296Z",
          "iopub.status.idle": "2022-08-01T21:08:07.791203Z",
          "shell.execute_reply.started": "2022-08-01T21:08:07.782254Z",
          "shell.execute_reply": "2022-08-01T21:08:07.789775Z"
        },
        "trusted": true,
        "id": "5VZ5iiTbkhqn"
      },
      "outputs": [],
      "execution_count": null
    },
    {
      "cell_type": "code",
      "source": [
        "df = add_lags(df)"
      ],
      "metadata": {
        "execution": {
          "iopub.status.busy": "2022-08-01T21:08:13.332464Z",
          "iopub.execute_input": "2022-08-01T21:08:13.333676Z",
          "iopub.status.idle": "2022-08-01T21:08:19.518906Z",
          "shell.execute_reply.started": "2022-08-01T21:08:13.333621Z",
          "shell.execute_reply": "2022-08-01T21:08:19.517487Z"
        },
        "trusted": true,
        "id": "_6JpJ41xkhqn"
      },
      "outputs": [],
      "execution_count": null
    },
    {
      "cell_type": "markdown",
      "source": [
        "## Train Using Cross Validation"
      ],
      "metadata": {
        "id": "ZKC_UUdnkhqn"
      }
    },
    {
      "cell_type": "code",
      "source": [
        "tss = TimeSeriesSplit(n_splits=5, test_size=24*365*1, gap=24)\n",
        "df = df.sort_index()\n",
        "\n",
        "\n",
        "fold = 0\n",
        "preds = []\n",
        "scores = []\n",
        "for train_idx, val_idx in tss.split(df):\n",
        "    train = df.iloc[train_idx]\n",
        "    test = df.iloc[val_idx]\n",
        "\n",
        "    train = create_features(train)\n",
        "    test = create_features(test)\n",
        "\n",
        "    FEATURES = ['dayofyear', 'hour', 'dayofweek', 'quarter', 'month','year',\n",
        "                'lag1','lag2','lag3']\n",
        "    TARGET = 'PJME_MW'\n",
        "\n",
        "    X_train = train[FEATURES]\n",
        "    y_train = train[TARGET]\n",
        "\n",
        "    X_test = test[FEATURES]\n",
        "    y_test = test[TARGET]\n",
        "\n",
        "    reg = xgb.XGBRegressor(base_score=0.5, booster='gbtree',\n",
        "                           n_estimators=1000,\n",
        "                           early_stopping_rounds=50,\n",
        "                           objective='reg:linear',\n",
        "                           max_depth=3,\n",
        "                           learning_rate=0.01)\n",
        "    reg.fit(X_train, y_train,\n",
        "            eval_set=[(X_train, y_train), (X_test, y_test)],\n",
        "            verbose=100)\n",
        "\n",
        "    y_pred = reg.predict(X_test)\n",
        "    preds.append(y_pred)\n",
        "    score = np.sqrt(mean_squared_error(y_test, y_pred))\n",
        "    scores.append(score)"
      ],
      "metadata": {
        "execution": {
          "iopub.status.busy": "2022-08-01T21:11:18.018074Z",
          "iopub.execute_input": "2022-08-01T21:11:18.01865Z",
          "iopub.status.idle": "2022-08-01T21:13:45.444232Z",
          "shell.execute_reply.started": "2022-08-01T21:11:18.018607Z",
          "shell.execute_reply": "2022-08-01T21:13:45.442166Z"
        },
        "trusted": true,
        "id": "J9D8xb2zkhqn"
      },
      "outputs": [],
      "execution_count": null
    },
    {
      "cell_type": "code",
      "source": [
        "print(f'Score across folds {np.mean(scores):0.4f}')\n",
        "print(f'Fold scores:{scores}')"
      ],
      "metadata": {
        "execution": {
          "iopub.status.busy": "2022-08-01T21:15:00.268693Z",
          "iopub.execute_input": "2022-08-01T21:15:00.269293Z",
          "iopub.status.idle": "2022-08-01T21:15:00.277834Z",
          "shell.execute_reply.started": "2022-08-01T21:15:00.269247Z",
          "shell.execute_reply": "2022-08-01T21:15:00.276121Z"
        },
        "trusted": true,
        "id": "cAZhZ2UCkhqo"
      },
      "outputs": [],
      "execution_count": null
    },
    {
      "cell_type": "markdown",
      "source": [
        "# 4. Predicting the Future\n",
        "- Retraining on all data\n",
        "- To Predict the future we need an emtpy dataframe for future date ranges.\n",
        "- Run those dates through our feature creation code + lag creation"
      ],
      "metadata": {
        "id": "aAgMCOqDkhqo"
      }
    },
    {
      "cell_type": "code",
      "source": [
        "# Retrain on all data\n",
        "df = create_features(df)\n",
        "\n",
        "FEATURES = ['dayofyear', 'hour', 'dayofweek', 'quarter', 'month', 'year',\n",
        "            'lag1','lag2','lag3']\n",
        "TARGET = 'PJME_MW'\n",
        "\n",
        "X_all = df[FEATURES]\n",
        "y_all = df[TARGET]\n",
        "\n",
        "reg = xgb.XGBRegressor(base_score=0.5,\n",
        "                       booster='gbtree',\n",
        "                       n_estimators=500,\n",
        "                       objective='reg:linear',\n",
        "                       max_depth=3,\n",
        "                       learning_rate=0.01)\n",
        "reg.fit(X_all, y_all,\n",
        "        eval_set=[(X_all, y_all)],\n",
        "        verbose=100)"
      ],
      "metadata": {
        "execution": {
          "iopub.status.busy": "2022-08-01T21:18:30.324144Z",
          "iopub.execute_input": "2022-08-01T21:18:30.325695Z",
          "iopub.status.idle": "2022-08-01T21:18:59.40554Z",
          "shell.execute_reply.started": "2022-08-01T21:18:30.325628Z",
          "shell.execute_reply": "2022-08-01T21:18:59.404023Z"
        },
        "trusted": true,
        "id": "VjWyAPWfkhqo"
      },
      "outputs": [],
      "execution_count": null
    },
    {
      "cell_type": "code",
      "source": [
        "df.index.max()"
      ],
      "metadata": {
        "execution": {
          "iopub.status.busy": "2022-08-01T21:19:48.403927Z",
          "iopub.execute_input": "2022-08-01T21:19:48.405296Z",
          "iopub.status.idle": "2022-08-01T21:19:48.417098Z",
          "shell.execute_reply.started": "2022-08-01T21:19:48.405244Z",
          "shell.execute_reply": "2022-08-01T21:19:48.415823Z"
        },
        "trusted": true,
        "id": "ouuyxNj-khqo"
      },
      "outputs": [],
      "execution_count": null
    },
    {
      "cell_type": "code",
      "source": [
        "# Create future dataframe\n",
        "future = pd.date_range('2018-08-03','2019-08-01', freq='1h')\n",
        "future_df = pd.DataFrame(index=future)\n",
        "future_df['isFuture'] = True\n",
        "df['isFuture'] = False\n",
        "df_and_future = pd.concat([df, future_df])\n",
        "df_and_future = create_features(df_and_future)\n",
        "df_and_future = add_lags(df_and_future)"
      ],
      "metadata": {
        "execution": {
          "iopub.status.busy": "2022-08-01T21:21:46.554533Z",
          "iopub.execute_input": "2022-08-01T21:21:46.555005Z",
          "iopub.status.idle": "2022-08-01T21:21:46.575875Z",
          "shell.execute_reply.started": "2022-08-01T21:21:46.554965Z",
          "shell.execute_reply": "2022-08-01T21:21:46.574388Z"
        },
        "trusted": true,
        "id": "BefzjgJBkhqo"
      },
      "outputs": [],
      "execution_count": null
    },
    {
      "cell_type": "code",
      "source": [
        "future_w_features = df_and_future.query('isFuture').copy()"
      ],
      "metadata": {
        "execution": {
          "iopub.status.busy": "2022-08-01T21:22:43.042461Z",
          "iopub.execute_input": "2022-08-01T21:22:43.042917Z",
          "iopub.status.idle": "2022-08-01T21:22:43.060595Z",
          "shell.execute_reply.started": "2022-08-01T21:22:43.042878Z",
          "shell.execute_reply": "2022-08-01T21:22:43.059419Z"
        },
        "trusted": true,
        "id": "7p23TKSlkhqo"
      },
      "outputs": [],
      "execution_count": null
    },
    {
      "cell_type": "markdown",
      "source": [
        "## Predict the future"
      ],
      "metadata": {
        "id": "4CHcMW9Qkhqo"
      }
    },
    {
      "cell_type": "code",
      "source": [
        "future_w_features['pred'] = reg.predict(future_w_features[FEATURES])"
      ],
      "metadata": {
        "execution": {
          "iopub.status.busy": "2022-08-01T21:23:32.03152Z",
          "iopub.execute_input": "2022-08-01T21:23:32.032052Z",
          "iopub.status.idle": "2022-08-01T21:23:32.070332Z",
          "shell.execute_reply.started": "2022-08-01T21:23:32.031998Z",
          "shell.execute_reply": "2022-08-01T21:23:32.069216Z"
        },
        "trusted": true,
        "id": "dhUCdZomkhqp"
      },
      "outputs": [],
      "execution_count": null
    },
    {
      "cell_type": "code",
      "source": [
        "future_w_features['pred'].plot(figsize=(10, 5),\n",
        "                               color=color_pal[4],\n",
        "                               ms=1,\n",
        "                               lw=1,\n",
        "                               title='Future Predictions')\n",
        "plt.show()"
      ],
      "metadata": {
        "execution": {
          "iopub.status.busy": "2022-08-01T21:23:52.293335Z",
          "iopub.execute_input": "2022-08-01T21:23:52.293796Z",
          "iopub.status.idle": "2022-08-01T21:23:52.786378Z",
          "shell.execute_reply.started": "2022-08-01T21:23:52.293759Z",
          "shell.execute_reply": "2022-08-01T21:23:52.785098Z"
        },
        "trusted": true,
        "id": "b3x7zAxwkhqp"
      },
      "outputs": [],
      "execution_count": null
    },
    {
      "cell_type": "markdown",
      "source": [
        "# Bonus: Saving Model For later"
      ],
      "metadata": {
        "id": "YvXIIi9-khqp"
      }
    },
    {
      "cell_type": "code",
      "source": [
        "# Save model\n",
        "reg.save_model('model.json')"
      ],
      "metadata": {
        "execution": {
          "iopub.status.busy": "2022-08-01T21:25:22.051535Z",
          "iopub.execute_input": "2022-08-01T21:25:22.052008Z",
          "iopub.status.idle": "2022-08-01T21:25:22.084286Z",
          "shell.execute_reply.started": "2022-08-01T21:25:22.051965Z",
          "shell.execute_reply": "2022-08-01T21:25:22.083135Z"
        },
        "trusted": true,
        "id": "6kK5b5Fukhqp"
      },
      "outputs": [],
      "execution_count": null
    },
    {
      "cell_type": "code",
      "source": [
        "!ls -lh"
      ],
      "metadata": {
        "execution": {
          "iopub.status.busy": "2022-08-01T21:25:29.086468Z",
          "iopub.execute_input": "2022-08-01T21:25:29.086959Z",
          "iopub.status.idle": "2022-08-01T21:25:29.891476Z",
          "shell.execute_reply.started": "2022-08-01T21:25:29.086913Z",
          "shell.execute_reply": "2022-08-01T21:25:29.890293Z"
        },
        "trusted": true,
        "id": "gOqjKwwTkhqp"
      },
      "outputs": [],
      "execution_count": null
    },
    {
      "cell_type": "code",
      "source": [
        "reg_new = xgb.XGBRegressor()\n",
        "reg_new.load_model('model.json')\n",
        "future_w_features['pred'] = reg_new.predict(future_w_features[FEATURES])\n",
        "future_w_features['pred'].plot(figsize=(10, 5),\n",
        "                               color=color_pal[4],\n",
        "                               ms=1, lw=1,\n",
        "                               title='Future Predictions')"
      ],
      "metadata": {
        "execution": {
          "iopub.status.busy": "2022-08-01T21:26:48.402403Z",
          "iopub.execute_input": "2022-08-01T21:26:48.402885Z",
          "iopub.status.idle": "2022-08-01T21:26:49.020771Z",
          "shell.execute_reply.started": "2022-08-01T21:26:48.402831Z",
          "shell.execute_reply": "2022-08-01T21:26:49.01949Z"
        },
        "trusted": true,
        "id": "dLSzbAhhkhqp"
      },
      "outputs": [],
      "execution_count": null
    },
    {
      "cell_type": "markdown",
      "source": [
        "# The End"
      ],
      "metadata": {
        "id": "5iudc9F6khqp"
      }
    }
  ]
}